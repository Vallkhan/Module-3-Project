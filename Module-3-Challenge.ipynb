{
 "cells": [
  {
   "cell_type": "code",
   "execution_count": 1,
   "metadata": {},
   "outputs": [
    {
     "name": "stdout",
     "output_type": "stream",
     "text": [
      "Total Months: 86\n",
      "Total: $22564198\n",
      "Average Change: $-8311.11\n",
      "Greatest Increase in Profits: Aug-16 ($1862002)\n",
      "Greatest Decrease in Profit: Feb-14 ($-1825558)\n"
     ]
    }
   ],
   "source": [
    "import os\n",
    "import csv\n",
    "\n",
    "with open('budget_data.csv') as file:\n",
    "    raw_data = csv.reader(file)\n",
    "    header = next(raw_data)\n",
    "        \n",
    "    data = []\n",
    "    for line in raw_data:\n",
    "        data.append(line)    \n",
    "          \n",
    "dates = []   \n",
    "for line in data:\n",
    "    dates.append(line[0])    \n",
    "\n",
    "profit = []\n",
    "for line in data:\n",
    "    profit.append(int(line[1])) \n",
    "\n",
    "change= []\n",
    "\n",
    "for x in range(len(profit)):\n",
    "   if profit[x] != profit[0]:\n",
    "      change.append(profit[x] - profit[x-1])\n",
    "      \n",
    "total_months = len(dates) \n",
    "Total = sum(profit)   \n",
    "Average_change = round(sum(change)/len(change),2)\n",
    "max_profit = max(change) \n",
    "max_profit_date = dates[change.index(max_profit)+1]\n",
    "min_profit = min(change)\n",
    "min_profit_date = dates[change.index(min_profit)+1]\n",
    "\n",
    "print(f\"Total Months: {total_months}\")\n",
    "print(f\"Total: ${Total}\")\n",
    "print(f\"Average Change: ${Average_change}\")\n",
    "print(f\"Greatest Increase in Profits: {max_profit_date} (${max_profit})\")\n",
    "print(f\"Greatest Decrease in Profit: {min_profit_date} (${min_profit})\")"
   ]
  },
  {
   "cell_type": "code",
   "execution_count": 7,
   "metadata": {},
   "outputs": [
    {
     "name": "stdout",
     "output_type": "stream",
     "text": [
      "Election Results\n",
      "Total Votes: 369711\n",
      "Charles Casper Stockham: 23.049% (85213)\n",
      "Diana DeGette: 73.812% (272892)\n",
      "Raymon Anthony Doane: 3.139% (11606)\n",
      "Winner: Diana DeGette\n"
     ]
    }
   ],
   "source": [
    "\n",
    "import os\n",
    "import csv\n",
    "\n",
    "with open('election_data.csv') as file:\n",
    "    raw_data = csv.reader(file)\n",
    "    header = next(raw_data)\n",
    "    \n",
    "    election_data = []\n",
    "    for line in raw_data:\n",
    "        election_data.append(line)\n",
    "        \n",
    "\n",
    "ballot = []\n",
    "for line in election_data:\n",
    "    ballot.append(int(line[0]))\n",
    "    \n",
    "county = []\n",
    "for line in election_data:\n",
    "    county.append(line[1])\n",
    "     \n",
    "candidate = []\n",
    "for line in election_data:\n",
    "    candidate.append(line[2])\n",
    "    \n",
    "total_votes = len(ballot)\n",
    "\n",
    "#A complete list of candidates who received votes \n",
    "\n",
    "names = []\n",
    "for x in range(len(candidate)):    \n",
    "    if candidate[x] == candidate[0] and ballot[x] == 1:\n",
    "        names = names.append(candidate[x])\n",
    "    elif candidate[x] != candidate[x-1] and candidate[x] not in names:\n",
    "        names.append(candidate[x])\n",
    "\n",
    "Stockham_votes = 0\n",
    "DeGette_votes = 0\n",
    "Doane_votes = 0\n",
    "\n",
    "#The percentage of votes each candidate won\n",
    "for x in range(len(candidate)):\n",
    "    if candidate[x] == \"Charles Casper Stockham\":\n",
    "        Stockham_votes = Stockham_votes + 1\n",
    "    elif candidate[x] == \"Diana DeGette\":\n",
    "        DeGette_votes = DeGette_votes + 1\n",
    "    else:\n",
    "        Doane_votes =  Doane_votes + 1    \n",
    "        \n",
    "if Stockham_votes > DeGette_votes and Stockham_votes > Doane_votes:\n",
    "    winner = names[0]\n",
    "elif DeGette_votes > Stockham_votes and DeGette_votes > Doane_votes:\n",
    "    winner = names[1]\n",
    "else:\n",
    "    winner = names[2]\n",
    "        \n",
    "Stockham_percentage = format(Stockham_votes/len(candidate),\".3%\")\n",
    "DeGette_percentage = format(DeGette_votes/len(candidate),\".3%\")\n",
    "Doane_percentage = format(Doane_votes/len(candidate),\".3%\")\n",
    "\n",
    "print(\"Election Results\") \n",
    "print(f\"Total Votes: {total_votes}\")   \n",
    "print(f\"{names[0]}: {Stockham_percentage} ({Stockham_votes})\")\n",
    "print(f\"{names[1]}: {DeGette_percentage} ({DeGette_votes})\")\n",
    "print(f\"{names[2]}: {Doane_percentage} ({Doane_votes})\")\n",
    "print(f\"Winner: {winner}\")"
   ]
  },
  {
   "cell_type": "code",
   "execution_count": null,
   "metadata": {},
   "outputs": [],
   "source": []
  }
 ],
 "metadata": {
  "kernelspec": {
   "display_name": "base",
   "language": "python",
   "name": "python3"
  },
  "language_info": {
   "codemirror_mode": {
    "name": "ipython",
    "version": 3
   },
   "file_extension": ".py",
   "mimetype": "text/x-python",
   "name": "python",
   "nbconvert_exporter": "python",
   "pygments_lexer": "ipython3",
   "version": "3.11.7"
  }
 },
 "nbformat": 4,
 "nbformat_minor": 2
}
